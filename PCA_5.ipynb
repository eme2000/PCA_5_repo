{
 "cells": [
  {
   "cell_type": "markdown",
   "id": "cd81eb33-3a71-42c8-8d86-10af3f8d5b22",
   "metadata": {},
   "source": [
    "# Pre-Class Assignment 5\n",
    "\n",
    "<div style=\"text-align: right\"> Emily Elizondo </div>\n",
    "<div style=\"text-align: right\"> Due 1/25/23 at 11:59pm </div>"
   ]
  },
  {
   "cell_type": "markdown",
   "id": "c3e12e67-382b-4981-bd2b-1107ee85315d",
   "metadata": {},
   "source": [
    "### Coding Assignment\n",
    "\n",
    "Implement the multivariable Secant method (not Newton’s method - calculate the derivative numerically, modifying code you’ve written in the past!) to find the joint root of f1 and f2 (which can be found by inspection to be at x = y = 0). Choose a starting point that is near zero but not precisely at zero (say, x = y = 1), and move progressively further away. How does that impact convergence and number of iterations? Compare this to the root method in the scipy.optimize package. How do your results compare, particularly as you experiment with different methods in root?\n"
   ]
  },
  {
   "cell_type": "code",
   "execution_count": 1,
   "id": "f59baa61-a49e-49e5-8055-21038b4ac0e3",
   "metadata": {},
   "outputs": [],
   "source": [
    "import numpy as np\n",
    "import scipy.linalg\n",
    "import scipy.optimize"
   ]
  },
  {
   "cell_type": "code",
   "execution_count": 2,
   "id": "b84f48f3-c658-462d-8cd7-4194a660589c",
   "metadata": {},
   "outputs": [],
   "source": [
    "'''\n",
    "Two simple 2D functions; their joint root is (x0,x1) = (0,0).\n",
    "\n",
    "Takes in a 2-element list or numpy array of (x0, x1) values, which should be floats.\n",
    "\n",
    "Returns a 2-element list that is the value of both functions at that (x0,x1) position.\n",
    "'''\n",
    "def combined_functions(x):\n",
    "    f1 = np.exp(-(x[1]**2+x[0]**2)/4.0)*x[0]**2\n",
    "    f2 = 4.0*x[0]**2+1.5*x[1]**2\n",
    "    return [f1,f2]"
   ]
  },
  {
   "cell_type": "code",
   "execution_count": 9,
   "id": "ce3a6459-9860-4a74-a1a1-ff8b82decc45",
   "metadata": {},
   "outputs": [],
   "source": [
    "#this function numerically solves for the partial derivatives of two functions using the 2-point stencil\n",
    "def numerical_diff(functions, x, h, n):\n",
    "    \n",
    "    x1 = x[0]\n",
    "    x2 = x[1]\n",
    "   \n",
    "    #computing partial derivatives for each function with resect to each point using the 2-point stencil\n",
    "    if n == 1:\n",
    "        df1_dx1 = (functions((x1+h,x2))[0] - functions((x1,x2)))[0]/h\n",
    "        df1_dx2 = (functions((x1,x2+h))[0] - functions((x1,x2)))[0]/h\n",
    "        df2_dx1 = (functions((x1+h,x2))[1] - functions((x1,x2))[1])/h\n",
    "        df2_dx2 = (functions((x1,x2+h))[1] - functions((x1,x2))[1])/h\n",
    "\n",
    "    elif n == 2:\n",
    "        df1_dx1 = (functions((x1+h,x2))[0] - functions((x1-h,x2))[0]) / (2*h)\n",
    "        df1_dx2 = (functions((x1,x2+h))[0] - functions((x1,x2-h))[0]) / (2*h)\n",
    "        df2_dx1 = (functions((x1+h,x2))[1] - functions((x1-h,x2))[1]) / (2*h)\n",
    "        df2_dx2 = (functions((x1,x2+h))[1] - functions((x1,x2-h))[1]) / (2*h)\n",
    "\n",
    "    #creating a matrix to place the partial derivatives in \n",
    "    A = np.zeros((2,2))\n",
    "    \n",
    "    #placing derivative in matrix 'A'\n",
    "    A[0,0] = df1_dx1\n",
    "    A[0,1] = df1_dx2\n",
    "    A[1,0] = df2_dx1\n",
    "    A[1,1] = df2_dx2\n",
    "    \n",
    "    return(A)\n",
    "\n",
    "#this function finds the joint root of two privided functions using the secant method, given an initial guess\n",
    "def secant_multivar(functions, guess, h, delta):\n",
    "    \n",
    "    iteration = 0      #initialization to keep track of the # of interations\n",
    "    dx = [0.1,0.1]     #initializing change in x\n",
    "    \n",
    "    while abs(dx[0]) > delta or abs(dx[1]) > delta:\n",
    "        \n",
    "        A = numerical_diff(functions, guess, h, 2)        #copmuting matrix of partial derivatives\n",
    "        \n",
    "        \n",
    "        dx = scipy.linalg.solve(A, functions(guess))   # solve the matrix equation A(dx) = b      \n",
    "        guess = guess - dx                             # updating guess for root\n",
    "        \n",
    "        \n",
    "        iteration += 1        #updating iteration\n",
    "    \n",
    "    root = guess\n",
    "    \n",
    "    return guess, iteration\n",
    "        "
   ]
  },
  {
   "cell_type": "code",
   "execution_count": 10,
   "id": "8f4c2cba-1bb2-4c80-91c6-561bc18a4f4d",
   "metadata": {},
   "outputs": [
    {
     "data": {
      "text/plain": [
       "(array([1.67645177e-06, 8.06018773e-06]), 18)"
      ]
     },
     "execution_count": 10,
     "metadata": {},
     "output_type": "execute_result"
    }
   ],
   "source": [
    "#using initial guess (x0,x1) = (1,1)\n",
    "secant_multivar(combined_functions, [1,1], 1e-6, 1e-5)"
   ]
  },
  {
   "cell_type": "code",
   "execution_count": 11,
   "id": "c453fec0-7eaa-41fe-aa36-788cd2798565",
   "metadata": {},
   "outputs": [
    {
     "data": {
      "text/plain": [
       "(array([1.47467685e-07, 5.27936043e-06]), 21)"
      ]
     },
     "execution_count": 11,
     "metadata": {},
     "output_type": "execute_result"
    }
   ],
   "source": [
    "#using initial guess (x0,x1) = (3,3)\n",
    "secant_multivar(combined_functions, [3,3], 1e-6, 1e-5)"
   ]
  },
  {
   "cell_type": "code",
   "execution_count": 12,
   "id": "fa9cf85c-23c3-42a9-9359-7647ca928823",
   "metadata": {},
   "outputs": [
    {
     "name": "stderr",
     "output_type": "stream",
     "text": [
      "/var/folders/ml/lry2ncps4nz1285ln669w9kr0000gn/T/ipykernel_85011/3920442355.py:42: LinAlgWarning: Ill-conditioned matrix (rcond=1.74543e-18): result may not be accurate.\n",
      "  dx = scipy.linalg.solve(A, functions(guess))   # solve the matrix equation A(dx) = b\n",
      "/var/folders/ml/lry2ncps4nz1285ln669w9kr0000gn/T/ipykernel_85011/3920442355.py:42: LinAlgWarning: Ill-conditioned matrix (rcond=1.44227e-32): result may not be accurate.\n",
      "  dx = scipy.linalg.solve(A, functions(guess))   # solve the matrix equation A(dx) = b\n",
      "/var/folders/ml/lry2ncps4nz1285ln669w9kr0000gn/T/ipykernel_85011/3920442355.py:42: LinAlgWarning: Ill-conditioned matrix (rcond=1.46433e-89): result may not be accurate.\n",
      "  dx = scipy.linalg.solve(A, functions(guess))   # solve the matrix equation A(dx) = b\n"
     ]
    },
    {
     "ename": "LinAlgError",
     "evalue": "Matrix is singular.",
     "output_type": "error",
     "traceback": [
      "\u001b[0;31m---------------------------------------------------------------------------\u001b[0m",
      "\u001b[0;31mLinAlgError\u001b[0m                               Traceback (most recent call last)",
      "Input \u001b[0;32mIn [12]\u001b[0m, in \u001b[0;36m<cell line: 3>\u001b[0;34m()\u001b[0m\n\u001b[1;32m      1\u001b[0m \u001b[38;5;66;03m#using initial guess (x0,x1) = (5,5)\u001b[39;00m\n\u001b[1;32m      2\u001b[0m \u001b[38;5;66;03m#this is where it breaks\u001b[39;00m\n\u001b[0;32m----> 3\u001b[0m \u001b[43msecant_multivar\u001b[49m\u001b[43m(\u001b[49m\u001b[43mcombined_functions\u001b[49m\u001b[43m,\u001b[49m\u001b[43m \u001b[49m\u001b[43m[\u001b[49m\u001b[38;5;241;43m5\u001b[39;49m\u001b[43m,\u001b[49m\u001b[38;5;241;43m5\u001b[39;49m\u001b[43m]\u001b[49m\u001b[43m,\u001b[49m\u001b[43m \u001b[49m\u001b[38;5;241;43m1e-6\u001b[39;49m\u001b[43m,\u001b[49m\u001b[43m \u001b[49m\u001b[38;5;241;43m1e-5\u001b[39;49m\u001b[43m)\u001b[49m\n",
      "Input \u001b[0;32mIn [9]\u001b[0m, in \u001b[0;36msecant_multivar\u001b[0;34m(functions, guess, h, delta)\u001b[0m\n\u001b[1;32m     37\u001b[0m \u001b[38;5;28;01mwhile\u001b[39;00m \u001b[38;5;28mabs\u001b[39m(dx[\u001b[38;5;241m0\u001b[39m]) \u001b[38;5;241m>\u001b[39m delta \u001b[38;5;129;01mor\u001b[39;00m \u001b[38;5;28mabs\u001b[39m(dx[\u001b[38;5;241m1\u001b[39m]) \u001b[38;5;241m>\u001b[39m delta:\n\u001b[1;32m     39\u001b[0m     A \u001b[38;5;241m=\u001b[39m numerical_diff(functions, guess, h, \u001b[38;5;241m2\u001b[39m)        \u001b[38;5;66;03m#copmuting matrix of partial derivatives\u001b[39;00m\n\u001b[0;32m---> 42\u001b[0m     dx \u001b[38;5;241m=\u001b[39m \u001b[43mscipy\u001b[49m\u001b[38;5;241;43m.\u001b[39;49m\u001b[43mlinalg\u001b[49m\u001b[38;5;241;43m.\u001b[39;49m\u001b[43msolve\u001b[49m\u001b[43m(\u001b[49m\u001b[43mA\u001b[49m\u001b[43m,\u001b[49m\u001b[43m \u001b[49m\u001b[43mfunctions\u001b[49m\u001b[43m(\u001b[49m\u001b[43mguess\u001b[49m\u001b[43m)\u001b[49m\u001b[43m)\u001b[49m   \u001b[38;5;66;03m# solve the matrix equation A(dx) = b      \u001b[39;00m\n\u001b[1;32m     43\u001b[0m     guess \u001b[38;5;241m=\u001b[39m guess \u001b[38;5;241m-\u001b[39m dx                             \u001b[38;5;66;03m# updating guess for root\u001b[39;00m\n\u001b[1;32m     46\u001b[0m     iteration \u001b[38;5;241m+\u001b[39m\u001b[38;5;241m=\u001b[39m \u001b[38;5;241m1\u001b[39m        \u001b[38;5;66;03m#updating iteration\u001b[39;00m\n",
      "File \u001b[0;32m~/opt/anaconda3/lib/python3.9/site-packages/scipy/linalg/basic.py:219\u001b[0m, in \u001b[0;36msolve\u001b[0;34m(a, b, sym_pos, lower, overwrite_a, overwrite_b, debug, check_finite, assume_a, transposed)\u001b[0m\n\u001b[1;32m    216\u001b[0m gecon, getrf, getrs \u001b[38;5;241m=\u001b[39m get_lapack_funcs((\u001b[38;5;124m'\u001b[39m\u001b[38;5;124mgecon\u001b[39m\u001b[38;5;124m'\u001b[39m, \u001b[38;5;124m'\u001b[39m\u001b[38;5;124mgetrf\u001b[39m\u001b[38;5;124m'\u001b[39m, \u001b[38;5;124m'\u001b[39m\u001b[38;5;124mgetrs\u001b[39m\u001b[38;5;124m'\u001b[39m),\n\u001b[1;32m    217\u001b[0m                                        (a1, b1))\n\u001b[1;32m    218\u001b[0m lu, ipvt, info \u001b[38;5;241m=\u001b[39m getrf(a1, overwrite_a\u001b[38;5;241m=\u001b[39moverwrite_a)\n\u001b[0;32m--> 219\u001b[0m \u001b[43m_solve_check\u001b[49m\u001b[43m(\u001b[49m\u001b[43mn\u001b[49m\u001b[43m,\u001b[49m\u001b[43m \u001b[49m\u001b[43minfo\u001b[49m\u001b[43m)\u001b[49m\n\u001b[1;32m    220\u001b[0m x, info \u001b[38;5;241m=\u001b[39m getrs(lu, ipvt, b1,\n\u001b[1;32m    221\u001b[0m                 trans\u001b[38;5;241m=\u001b[39mtrans, overwrite_b\u001b[38;5;241m=\u001b[39moverwrite_b)\n\u001b[1;32m    222\u001b[0m _solve_check(n, info)\n",
      "File \u001b[0;32m~/opt/anaconda3/lib/python3.9/site-packages/scipy/linalg/basic.py:29\u001b[0m, in \u001b[0;36m_solve_check\u001b[0;34m(n, info, lamch, rcond)\u001b[0m\n\u001b[1;32m     26\u001b[0m     \u001b[38;5;28;01mraise\u001b[39;00m \u001b[38;5;167;01mValueError\u001b[39;00m(\u001b[38;5;124m'\u001b[39m\u001b[38;5;124mLAPACK reported an illegal value in \u001b[39m\u001b[38;5;132;01m{}\u001b[39;00m\u001b[38;5;124m-th argument\u001b[39m\u001b[38;5;124m'\u001b[39m\n\u001b[1;32m     27\u001b[0m                      \u001b[38;5;124m'\u001b[39m\u001b[38;5;124m.\u001b[39m\u001b[38;5;124m'\u001b[39m\u001b[38;5;241m.\u001b[39mformat(\u001b[38;5;241m-\u001b[39minfo))\n\u001b[1;32m     28\u001b[0m \u001b[38;5;28;01melif\u001b[39;00m \u001b[38;5;241m0\u001b[39m \u001b[38;5;241m<\u001b[39m info:\n\u001b[0;32m---> 29\u001b[0m     \u001b[38;5;28;01mraise\u001b[39;00m LinAlgError(\u001b[38;5;124m'\u001b[39m\u001b[38;5;124mMatrix is singular.\u001b[39m\u001b[38;5;124m'\u001b[39m)\n\u001b[1;32m     31\u001b[0m \u001b[38;5;28;01mif\u001b[39;00m lamch \u001b[38;5;129;01mis\u001b[39;00m \u001b[38;5;28;01mNone\u001b[39;00m:\n\u001b[1;32m     32\u001b[0m     \u001b[38;5;28;01mreturn\u001b[39;00m\n",
      "\u001b[0;31mLinAlgError\u001b[0m: Matrix is singular."
     ]
    }
   ],
   "source": [
    "#using initial guess (x0,x1) = (5,5)\n",
    "#this is where it breaks\n",
    "secant_multivar(combined_functions, [5,5], 1e-6, 1e-5)"
   ]
  },
  {
   "cell_type": "markdown",
   "id": "0fb02776-dd5a-46fe-85ce-b7c7d7d53056",
   "metadata": {},
   "source": [
    "#### Using root fucntion in scipy optemize package"
   ]
  },
  {
   "cell_type": "code",
   "execution_count": 57,
   "id": "b06c4c25-2e0c-4736-9d61-b0b096f09334",
   "metadata": {},
   "outputs": [
    {
     "data": {
      "text/plain": [
       "    fjac: array([[ 0.1477199 , -0.98902924],\n",
       "       [ 0.98902924,  0.1477199 ]])\n",
       "     fun: array([9.53824561e-233, 7.09956133e-232])\n",
       " message: 'The number of calls to function has reached maxfev = 600.'\n",
       "    nfev: 600\n",
       "     qtf: array([-1.80141024e-231,  5.21540357e-232])\n",
       "       r: array([-1.13500212e-109,  7.49132647e-110, -5.70298487e-116])\n",
       "  status: 2\n",
       " success: False\n",
       "       x: array([-9.76639422e-117, -1.47969886e-116])"
      ]
     },
     "execution_count": 57,
     "metadata": {},
     "output_type": "execute_result"
    }
   ],
   "source": [
    "#using initial guess (x0,x1) = (1,1)\n",
    "scipy.optimize.root(combined_functions, [1,1], method = 'hybr')"
   ]
  },
  {
   "cell_type": "code",
   "execution_count": 60,
   "id": "bc501634-5c2f-42a4-a0f2-811b1315cc09",
   "metadata": {},
   "outputs": [
    {
     "data": {
      "text/plain": [
       "     fun: array([3.06882815e-06, 3.91560708e+01])\n",
       " message: 'The maximum number of iterations allowed has been reached.'\n",
       "     nit: 300\n",
       "  status: 2\n",
       " success: False\n",
       "       x: array([-0.04575119,  5.10866572])"
      ]
     },
     "execution_count": 60,
     "metadata": {},
     "output_type": "execute_result"
    }
   ],
   "source": [
    "#using initial guess (x0,x1) = (1,1)\n",
    "scipy.optimize.root(combined_functions, [1,1], method = 'broyden2')"
   ]
  },
  {
   "cell_type": "code",
   "execution_count": 64,
   "id": "b1e35771-2357-496a-ba73-3328a257890f",
   "metadata": {},
   "outputs": [
    {
     "data": {
      "text/plain": [
       "     fun: array([4.60461799e-08, 1.78082567e-06])\n",
       " message: 'A solution was found at the specified tolerance.'\n",
       "     nit: 12\n",
       "  status: 1\n",
       " success: True\n",
       "       x: array([0.00021458, 0.00103171])"
      ]
     },
     "execution_count": 64,
     "metadata": {},
     "output_type": "execute_result"
    }
   ],
   "source": [
    "#using initial guess (x0,x1) = (1,1)\n",
    "scipy.optimize.root(combined_functions, [1,1], method = 'krylov')"
   ]
  },
  {
   "cell_type": "code",
   "execution_count": null,
   "id": "9dba6398-7fcc-4972-858f-5a348f4edeec",
   "metadata": {},
   "outputs": [],
   "source": []
  }
 ],
 "metadata": {
  "kernelspec": {
   "display_name": "Python 3 (ipykernel)",
   "language": "python",
   "name": "python3"
  },
  "language_info": {
   "codemirror_mode": {
    "name": "ipython",
    "version": 3
   },
   "file_extension": ".py",
   "mimetype": "text/x-python",
   "name": "python",
   "nbconvert_exporter": "python",
   "pygments_lexer": "ipython3",
   "version": "3.9.12"
  },
  "vscode": {
   "interpreter": {
    "hash": "1289e0f34c8db140045ed0c304d2612a488ab7cf67ca68f955a9e245a037d86c"
   }
  }
 },
 "nbformat": 4,
 "nbformat_minor": 5
}
